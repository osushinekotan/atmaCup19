{
 "cells": [
  {
   "cell_type": "code",
   "execution_count": null,
   "metadata": {},
   "outputs": [],
   "source": [
    "import logging\n",
    "\n",
    "import polars as pl\n",
    "import rootutils\n",
    "import seaborn as sns\n",
    "\n",
    "sns.set_style(\"whitegrid\")\n",
    "logging.basicConfig(level=logging.INFO)\n",
    "\n",
    "ROOT = rootutils.setup_root(\".\", pythonpath=True, cwd=True)\n",
    "\n",
    "\n",
    "pl.Config.set_fmt_str_lengths(200)\n",
    "pl.Config.set_tbl_cols(50)\n",
    "pl.Config.set_tbl_rows(50)\n"
   ]
  },
  {
   "cell_type": "code",
   "execution_count": 27,
   "metadata": {},
   "outputs": [],
   "source": [
    "EXP_NAME = \"en-06\""
   ]
  },
  {
   "cell_type": "code",
   "execution_count": null,
   "metadata": {},
   "outputs": [],
   "source": [
    "src_filenames = [\n",
    "    \"submission_030.csv\",\n",
    "    \"submission_033.csv\",\n",
    "    \"submission_035.csv\",\n",
    "    \"submission_036.csv\",\n",
    "]\n",
    "\n",
    "sources_dir = ROOT / \"notebooks\" / \"ensemble\" / \"sources\"\n",
    "df = pl.DataFrame()\n",
    "for src_filename in src_filenames:\n",
    "    src_path = sources_dir / src_filename\n",
    "    i_df = pl.read_csv(src_path).with_row_index()\n",
    "    df = pl.concat([df, i_df], how=\"vertical\")\n",
    "    # てきとうに重みづけ\n",
    "    if \"submission_035\" in src_filename:\n",
    "        df = pl.concat([df, i_df], how=\"vertical\")\n",
    "        df = pl.concat([df, i_df], how=\"vertical\")\n",
    "    if \"submission_033\" in src_filename:\n",
    "        df = pl.concat([df, i_df], how=\"vertical\")\n",
    "\n",
    "\n",
    "out_dir = ROOT / \"data\" / \"output\" / EXP_NAME\n",
    "out_dir.mkdir(parents=True, exist_ok=True)\n",
    "\n",
    "df.group_by(\"index\").agg(\n",
    "    pl.col(\"チョコレート\").mean(),\n",
    "    pl.col(\"ビール\").mean(),\n",
    "    pl.col(\"ヘアケア\").mean(),\n",
    "    pl.col(\"米（5㎏以下）\").mean(),\n",
    ").sort(\"index\").drop(\"index\").write_csv(out_dir / \"submission.csv\")\n"
   ]
  },
  {
   "cell_type": "code",
   "execution_count": null,
   "metadata": {},
   "outputs": [],
   "source": []
  },
  {
   "cell_type": "code",
   "execution_count": null,
   "metadata": {},
   "outputs": [],
   "source": []
  },
  {
   "cell_type": "code",
   "execution_count": null,
   "metadata": {},
   "outputs": [],
   "source": []
  }
 ],
 "metadata": {
  "kernelspec": {
   "display_name": ".venv",
   "language": "python",
   "name": "python3"
  },
  "language_info": {
   "codemirror_mode": {
    "name": "ipython",
    "version": 3
   },
   "file_extension": ".py",
   "mimetype": "text/x-python",
   "name": "python",
   "nbconvert_exporter": "python",
   "pygments_lexer": "ipython3",
   "version": "3.11.9"
  }
 },
 "nbformat": 4,
 "nbformat_minor": 2
}
