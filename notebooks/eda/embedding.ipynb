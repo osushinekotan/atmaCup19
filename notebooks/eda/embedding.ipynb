{
 "cells": [
  {
   "cell_type": "code",
   "execution_count": null,
   "metadata": {},
   "outputs": [],
   "source": [
    "import logging\n",
    "\n",
    "import japanize_matplotlib\n",
    "import matplotlib.pyplot as plt\n",
    "import networkx as nx\n",
    "import polars as pl\n",
    "import rootutils\n",
    "import seaborn as sns\n",
    "\n",
    "sns.set_style(\"whitegrid\")\n",
    "logging.basicConfig(level=logging.INFO)\n",
    "\n",
    "ROOT = rootutils.setup_root(\".\", pythonpath=True, cwd=True)\n",
    "\n",
    "DATA_DIR = ROOT / \"data\"\n",
    "INPUT_DIR = DATA_DIR / \"atmacup19_dataset\"\n",
    "OUTPUT_DIR = DATA_DIR / \"output\"\n",
    "CACHE_DIR = DATA_DIR / \"cache\"\n",
    "\n",
    "for d in [DATA_DIR, INPUT_DIR, OUTPUT_DIR, CACHE_DIR]:\n",
    "    d.mkdir(exist_ok=True, parents=True)\n",
    "\n",
    "pl.Config.set_fmt_str_lengths(200)\n",
    "pl.Config.set_tbl_cols(50)\n",
    "pl.Config.set_tbl_rows(50)\n"
   ]
  },
  {
   "cell_type": "markdown",
   "metadata": {},
   "source": [
    "### load data\n"
   ]
  },
  {
   "cell_type": "code",
   "execution_count": null,
   "metadata": {},
   "outputs": [],
   "source": [
    "ec_log_df = pl.read_csv(INPUT_DIR / \"ec_log.csv\", infer_schema_length=200000)\n",
    "jan_df = pl.read_csv(INPUT_DIR / \"jan.csv\")\n",
    "test_session_df = pl.read_csv(INPUT_DIR / \"test_session.csv\")\n",
    "train_session_df = pl.read_csv(INPUT_DIR / \"train_session.csv\")\n",
    "train_log_df = pl.read_csv(INPUT_DIR / \"train_log.csv\")\n",
    "\n",
    "train_session_df = train_session_df.with_columns(pl.col(\"売上日\").cast(pl.Date)).with_columns(\n",
    "    pl.datetime(\n",
    "        pl.col(\"売上日\").dt.year(), pl.col(\"売上日\").dt.month(), pl.col(\"売上日\").dt.day(), pl.col(\"時刻\")\n",
    "    ).alias(\"session_datetime\")\n",
    ")"
   ]
  },
  {
   "cell_type": "code",
   "execution_count": null,
   "metadata": {},
   "outputs": [],
   "source": [
    "noleak_log_df = (\n",
    "    train_log_df.join(\n",
    "        train_session_df.select([\"session_id\", \"session_datetime\", \"顧客CD\"]), on=\"session_id\", how=\"left\"\n",
    "    )\n",
    "    .sort(\"session_datetime\")\n",
    "    .select(\n",
    "        pl.col(\"session_id\"),\n",
    "        pl.col(\"JAN\"),\n",
    "        pl.col(\"売上数量\")\n",
    "        .rolling_sum_by(\n",
    "            \"session_datetime\",\n",
    "            window_size=\"6mo\",\n",
    "            closed=\"left\",\n",
    "        )\n",
    "        .over([\"顧客CD\", \"JAN\"])\n",
    "        .fill_null(0),\n",
    "    )\n",
    ")\n"
   ]
  },
  {
   "cell_type": "code",
   "execution_count": null,
   "metadata": {},
   "outputs": [],
   "source": [
    "import scipy.sparse as sp\n",
    "from sklearn.preprocessing import LabelEncoder\n",
    "\n",
    "\n",
    "def create_sparse_matrix(\n",
    "    df: pl.DataFrame,\n",
    "    session_col: str = \"session_id\",\n",
    "    item_col: str = \"JAN\",\n",
    "    value_col: str = \"売上数量\",\n",
    ") -> tuple[sp.csr_matrix, LabelEncoder, LabelEncoder]:\n",
    "    # `session_id`と`JAN`を数値に変更する\n",
    "    session_encoder = LabelEncoder()\n",
    "    item_encoder = LabelEncoder()\n",
    "    session_array = session_encoder.fit_transform(df[session_col].to_numpy().ravel())\n",
    "    jan_array = item_encoder.fit_transform(df[item_col].to_numpy().ravel())\n",
    "\n",
    "    data_array = df[value_col].to_numpy().ravel()\n",
    "\n",
    "    # スパース行列を作成する\n",
    "    sparse_matrix = sp.csr_matrix(\n",
    "        (data_array, (session_array, jan_array)),\n",
    "        shape=(len(session_encoder.classes_), len(item_encoder.classes_)),\n",
    "    )\n",
    "\n",
    "    return sparse_matrix, session_encoder, item_encoder\n",
    "\n",
    "\n",
    "sparse_matrix, session_encoder, item_encoder = create_sparse_matrix(noleak_log_df)\n"
   ]
  },
  {
   "cell_type": "code",
   "execution_count": null,
   "metadata": {},
   "outputs": [],
   "source": [
    "from sklearn.decomposition import TruncatedSVD\n",
    "\n",
    "svd = TruncatedSVD(n_components=32, random_state=42)\n",
    "\n",
    "# セッションの埋め込み\n",
    "session_embeddings = svd.fit_transform(sparse_matrix)\n",
    "jan_embeddings = svd.components_.T\n",
    "\n",
    "\n",
    "print(f\"{session_embeddings.shape=}\")\n",
    "print(f\"{jan_embeddings.shape=}\")\n"
   ]
  },
  {
   "cell_type": "code",
   "execution_count": null,
   "metadata": {},
   "outputs": [],
   "source": [
    "import umap\n",
    "\n",
    "umap_model = umap.UMAP(n_components=2, verbose=True)\n",
    "umap_jan = umap_model.fit_transform(jan_embeddings)"
   ]
  },
  {
   "cell_type": "code",
   "execution_count": null,
   "metadata": {},
   "outputs": [],
   "source": [
    "import plotly.express as px\n",
    "\n",
    "jan2division = (\n",
    "    jan_df.select([\"JAN\", \"ディビジョン\"]).unique().to_pandas().groupby(\"JAN\")[\"ディビジョン\"].first().to_dict()\n",
    ")\n",
    "jan2name = jan_df.select([\"JAN\", \"商品名\"]).unique().to_pandas().groupby(\"JAN\")[\"商品名\"].first().to_dict()\n",
    "\n",
    "fig = px.scatter(\n",
    "    x=umap_jan[:, 0],\n",
    "    y=umap_jan[:, 1],\n",
    "    color=[jan2division[jan] for jan in item_encoder.classes_],\n",
    "    hover_data={\"商品名\": [jan2name[jan] for jan in item_encoder.classes_]},\n",
    "    opacity=0.5,\n",
    ")\n",
    "fig.show()"
   ]
  }
 ],
 "metadata": {
  "kernelspec": {
   "display_name": ".venv",
   "language": "python",
   "name": "python3"
  },
  "language_info": {
   "codemirror_mode": {
    "name": "ipython",
    "version": 3
   },
   "file_extension": ".py",
   "mimetype": "text/x-python",
   "name": "python",
   "nbconvert_exporter": "python",
   "pygments_lexer": "ipython3",
   "version": "3.11.9"
  }
 },
 "nbformat": 4,
 "nbformat_minor": 2
}
